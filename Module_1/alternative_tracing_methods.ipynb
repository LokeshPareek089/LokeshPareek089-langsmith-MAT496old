{
 "cells": [
  {
   "cell_type": "code",
   "execution_count": 14,
   "metadata": {},
   "outputs": [
    {
     "name": "stdout",
     "output_type": "stream",
     "text": [
      "Groq client initialized ✅\n"
     ]
    }
   ],
   "source": [
    "from dotenv import load_dotenv\n",
    "load_dotenv()  # Loads from local .env by default\n",
    "\n",
    "import os\n",
    "os.environ[\"USER_AGENT\"] = \"my-langchain-app/1.0\"  # Set a user agent for API requests\n",
    "groq_key = os.getenv(\"GROQ_API_KEY\")\n",
    "\n",
    "from groq import Groq\n",
    "groq_client = Groq(api_key=groq_key)\n",
    "\n",
    "print(\"Groq client initialized ✅\")"
   ]
  },
  {
   "cell_type": "code",
   "execution_count": 15,
   "metadata": {},
   "outputs": [
    {
     "data": {
      "image/png": "[encoded data removed]",
      "text/plain": [
       "<IPython.core.display.Image object>"
      ]
     },
     "metadata": {},
     "output_type": "display_data"
    }
   ],
   "source": [
    "import nest_asyncio\n",
    "import operator\n",
    "from langchain.schema import Document\n",
    "from langchain_core.messages import HumanMessage, AnyMessage, get_buffer_string\n",
    "from langchain_groq import ChatGroq\n",
    "from langgraph.graph import StateGraph, START, END\n",
    "from IPython.display import Image, display\n",
    "from typing import List\n",
    "from typing_extensions import TypedDict, Annotated\n",
    "from utils import get_vector_db_retriever, RAG_PROMPT\n",
    "\n",
    "nest_asyncio.apply()\n",
    "\n",
    "retriever = get_vector_db_retriever()\n",
    "llm = ChatGroq(model_name=\"llama-3.1-8b-instant\", temperature=0)\n",
    "\n",
    "# Define Graph state\n",
    "class GraphState(TypedDict):\n",
    "    question: str\n",
    "    messages: Annotated[List[AnyMessage], operator.add]\n",
    "    documents: List[Document]\n",
    "\n",
    "# Define Nodes\n",
    "def retrieve_documents(state: GraphState):\n",
    "    messages = state.get(\"messages\", [])\n",
    "    question = state[\"question\"]\n",
    "    documents = retriever.invoke(f\"{get_buffer_string(messages)} {question}\")\n",
    "    return {\"documents\": documents}\n",
    "\n",
    "def generate_response(state: GraphState):\n",
    "    question = state[\"question\"]\n",
    "    messages = state[\"messages\"]\n",
    "    documents = state[\"documents\"]\n",
    "    formatted_docs = \"\\n\\n\".join(doc.page_content for doc in documents)\n",
    "    \n",
    "    rag_prompt_formatted = RAG_PROMPT.format(context=formatted_docs, conversation=messages, question=question)\n",
    "    generation = llm.invoke([HumanMessage(content=rag_prompt_formatted)])\n",
    "    return {\"documents\": documents, \"messages\": [HumanMessage(question), generation]}\n",
    "\n",
    "# Define Graph\n",
    "graph_builder = StateGraph(GraphState)\n",
    "graph_builder.add_node(\"retrieve_documents\", retrieve_documents)\n",
    "graph_builder.add_node(\"generate_response\", generate_response)\n",
    "graph_builder.add_edge(START, \"retrieve_documents\")\n",
    "graph_builder.add_edge(\"retrieve_documents\", \"generate_response\")\n",
    "graph_builder.add_edge(\"generate_response\", END)\n",
    "\n",
    "simple_rag_graph = graph_builder.compile()\n",
    "display(Image(simple_rag_graph.get_graph().draw_mermaid_png()))"
   ]
  },
  {
   "cell_type": "code",
   "execution_count": 16,
   "metadata": {},
   "outputs": [
    {
     "name": "stdout",
     "output_type": "stream",
     "text": [
      "🌐 Connected! Running the RAG graph...\n",
      "✅ Success! Here is your result:\n",
      "{'question': \"How do I set up tracing if I'm using LangChain?\", 'messages': [HumanMessage(content=\"How do I set up tracing if I'm using LangChain?\", additional_kwargs={}, response_metadata={}), AIMessage(content='To set up tracing with LangChain, you can use the `tracing_context` context manager in Python or pass a `LangChainTracer` instance as a callback in Python or JS/TS. Additionally, you can set the `LANGSMITH_TRACING` environment variable to enable tracing for the entire application run.', additional_kwargs={}, response_metadata={'token_usage': {'completion_tokens': 66, 'prompt_tokens': 1307, 'total_tokens': 1373, 'completion_time': 0.087906377, 'prompt_time': 0.079801498, 'queue_time': 0.045785841, 'total_time': 0.167707875}, 'model_name': 'llama-3.1-8b-instant', 'system_fingerprint': 'fp_3ddc9808b3', 'service_tier': 'on_demand', 'finish_reason': 'stop', 'logprobs': None}, id='run--4eb943a8-8383-4c94-8316-04954fdfd036-0', usage_metadata={'input_tokens': 1307, 'output_tokens': 66, 'total_tokens': 1373})], 'documents': [Document(metadata={'id': '6bebe845-3cff-4893-b698-66c659435822', 'changefreq': 'weekly', 'loc': 'https://docs.smith.langchain.com/observability/how_to_guides/trace_with_langchain', 'priority': '0.5', 'source': 'https://docs.smith.langchain.com/observability/how_to_guides/trace_with_langchain'}, page_content='\\u200b3. View your trace\\nBy default, the trace will be logged to the project with the name default. An example of a trace logged using the above code is made public and can be viewed here.\\n\\n\\u200bTrace selectively\\nThe previous section showed how to trace all invocations of a LangChain runnables within your applications by setting a single environment variable. While this is a convenient way to get started, you may want to trace only specific invocations or parts of your application.\\nThere are two ways to do this in Python: by manually passing in a LangChainTracer (reference docs) instance as a callback, or by using the tracing_context context manager (reference docs).\\nIn JS/TS, you can pass a LangChainTracer (reference docs) instance as a callback.\\nPythonTypeScriptCopy# You can opt-in to specific invocations..\\nimport langsmith as ls\\n\\nwith ls.tracing_context(enabled=True):\\n    chain.invoke({\"question\": \"Am I using a callback?\", \"context\": \"I\\'m using a callback\"})\\n\\n# This will NOT be traced (assuming LANGSMITH_TRACING is not set)\\nchain.invoke({\"question\": \"Am I being traced?\", \"context\": \"I\\'m not being traced\"})\\n\\n# This would not be traced, even if LANGSMITH_TRACING=true\\nwith ls.tracing_context(enabled=False):\\n    chain.invoke({\"question\": \"Am I being traced?\", \"context\": \"I\\'m not being traced\"})\\n\\n\\u200bLog to a specific project\\n\\u200bStatically\\nAs mentioned in the tracing conceptual guide LangSmith uses the concept of a Project to group traces. If left unspecified, the tracer project is set to default. You can set the LANGSMITH_PROJECT environment variable to configure a custom project name for an entire application run. This should be done before executing your application.\\nCopyexport LANGSMITH_PROJECT=my-project'), Document(metadata={'id': 'd2b1919d-fbf8-4fcd-832d-80af95f8d84a', 'changefreq': 'weekly', 'loc': 'https://docs.smith.langchain.com/observability/how_to_guides', 'priority': '0.5', 'source': 'https://docs.smith.langchain.com/observability/how_to_guides'}, page_content='\\u200b3. View your trace\\nBy default, the trace will be logged to the project with the name default. An example of a trace logged using the above code is made public and can be viewed here.\\n\\n\\u200bTrace selectively\\nThe previous section showed how to trace all invocations of a LangChain runnables within your applications by setting a single environment variable. While this is a convenient way to get started, you may want to trace only specific invocations or parts of your application.\\nThere are two ways to do this in Python: by manually passing in a LangChainTracer (reference docs) instance as a callback, or by using the tracing_context context manager (reference docs).\\nIn JS/TS, you can pass a LangChainTracer (reference docs) instance as a callback.\\nPythonTypeScriptCopy# You can opt-in to specific invocations..\\nimport langsmith as ls\\n\\nwith ls.tracing_context(enabled=True):\\n    chain.invoke({\"question\": \"Am I using a callback?\", \"context\": \"I\\'m using a callback\"})\\n\\n# This will NOT be traced (assuming LANGSMITH_TRACING is not set)\\nchain.invoke({\"question\": \"Am I being traced?\", \"context\": \"I\\'m not being traced\"})\\n\\n# This would not be traced, even if LANGSMITH_TRACING=true\\nwith ls.tracing_context(enabled=False):\\n    chain.invoke({\"question\": \"Am I being traced?\", \"context\": \"I\\'m not being traced\"})\\n\\n\\u200bLog to a specific project\\n\\u200bStatically\\nAs mentioned in the tracing conceptual guide LangSmith uses the concept of a Project to group traces. If left unspecified, the tracer project is set to default. You can set the LANGSMITH_PROJECT environment variable to configure a custom project name for an entire application run. This should be done before executing your application.\\nCopyexport LANGSMITH_PROJECT=my-project'), Document(metadata={'id': '2c3d103a-fe9d-4d91-b8f6-3f5e85aa02fc', 'changefreq': 'weekly', 'loc': 'https://docs.smith.langchain.com/observability/how_to_guides/trace_with_opentelemetry', 'priority': '0.5', 'source': 'https://docs.smith.langchain.com/observability/how_to_guides/trace_with_opentelemetry'}, page_content='Set up distributed tracing with LangChain\\u200b\\nTo enable distributed tracing across multiple services:'), Document(metadata={'id': 'd25bb9a3-8d18-4e90-aee5-3dcf2d7fab53', 'changefreq': 'weekly', 'loc': 'https://docs.smith.langchain.com/observability/how_to_guides/serverless_environments', 'priority': '0.5', 'source': 'https://docs.smith.langchain.com/observability/how_to_guides/serverless_environments'}, page_content='Note that this is named differently from the environment variable in LangChain.js because LangSmith can be used without LangChain.\\n\\n\\nPass a custom client into your traced runs and await the client.awaitPendingTraceBatches(); method.\\n\\nHere’s an example of using awaitPendingTraceBatches alongside the traceable method:\\nCopyimport { Client } from \"langsmith\";\\nimport { traceable } from \"langsmith/traceable\";\\nconst langsmithClient = new Client({});\\nconst tracedFn = traceable(\\n  async () => {\\n    return \"Some return value\";\\n  },\\n  {\\n    client: langsmithClient,\\n  }\\n);\\nconst res = await tracedFn();\\nawait langsmithClient.awaitPendingTraceBatches();\\n\\n\\u200bRate limits at high concurrency\\x0b\\nBy default, the LangSmith client will batch operations as your traced run executions, sending a new batch every few milliseconds.\\nThis works well in most situations, but if your traced function is long-running and you have very high concurrency, you may also hit rate limits related to overall request count.\\nIf you are seeing rate limit errors related to this, you can try setting manualFlushMode: true in your client like this:\\nCopyimport { Client } from \"langsmith\";\\nconst langsmithClient = new Client({  manualFlushMode: true,});\\nconst myTracedFunc = traceable(\\n  async () => {\\n    // Your logic here...\\n  },\\n  { client: langsmithClient }\\n);\\n\\nAnd then manually calling client.flush() like this before your serverless function closes:\\nCopytry {\\n  await myTracedFunc();\\n} finally {\\n  await langsmithClient.flush();\\n}\\n\\nNote that this will prevent runs from appearing in the LangSmith UI until you call .flush().Was this page helpful?YesNoThreadsLog multimodal tracesAssistantResponses are generated using AI and may contain mistakes.Docs by LangChain home pagegithubxlinkedinyoutubeResourcesChangelogLangChain AcademyTrust CenterCompanyAboutCareersBloggithubxlinkedinyoutubePowered by Mintlify')]}\n",
      "✅ Success! Here is your result:\n",
      "{'question': \"How do I set up tracing if I'm using LangChain?\", 'messages': [HumanMessage(content=\"How do I set up tracing if I'm using LangChain?\", additional_kwargs={}, response_metadata={}), AIMessage(content='To set up tracing with LangChain, you can use the `tracing_context` context manager in Python or pass a `LangChainTracer` instance as a callback in Python or JS/TS. Additionally, you can set the `LANGSMITH_TRACING` environment variable to enable tracing for the entire application run.', additional_kwargs={}, response_metadata={'token_usage': {'completion_tokens': 66, 'prompt_tokens': 1307, 'total_tokens': 1373, 'completion_time': 0.087906377, 'prompt_time': 0.079801498, 'queue_time': 0.045785841, 'total_time': 0.167707875}, 'model_name': 'llama-3.1-8b-instant', 'system_fingerprint': 'fp_3ddc9808b3', 'service_tier': 'on_demand', 'finish_reason': 'stop', 'logprobs': None}, id='run--4eb943a8-8383-4c94-8316-04954fdfd036-0', usage_metadata={'input_tokens': 1307, 'output_tokens': 66, 'total_tokens': 1373})], 'documents': [Document(metadata={'id': '6bebe845-3cff-4893-b698-66c659435822', 'changefreq': 'weekly', 'loc': 'https://docs.smith.langchain.com/observability/how_to_guides/trace_with_langchain', 'priority': '0.5', 'source': 'https://docs.smith.langchain.com/observability/how_to_guides/trace_with_langchain'}, page_content='\\u200b3. View your trace\\nBy default, the trace will be logged to the project with the name default. An example of a trace logged using the above code is made public and can be viewed here.\\n\\n\\u200bTrace selectively\\nThe previous section showed how to trace all invocations of a LangChain runnables within your applications by setting a single environment variable. While this is a convenient way to get started, you may want to trace only specific invocations or parts of your application.\\nThere are two ways to do this in Python: by manually passing in a LangChainTracer (reference docs) instance as a callback, or by using the tracing_context context manager (reference docs).\\nIn JS/TS, you can pass a LangChainTracer (reference docs) instance as a callback.\\nPythonTypeScriptCopy# You can opt-in to specific invocations..\\nimport langsmith as ls\\n\\nwith ls.tracing_context(enabled=True):\\n    chain.invoke({\"question\": \"Am I using a callback?\", \"context\": \"I\\'m using a callback\"})\\n\\n# This will NOT be traced (assuming LANGSMITH_TRACING is not set)\\nchain.invoke({\"question\": \"Am I being traced?\", \"context\": \"I\\'m not being traced\"})\\n\\n# This would not be traced, even if LANGSMITH_TRACING=true\\nwith ls.tracing_context(enabled=False):\\n    chain.invoke({\"question\": \"Am I being traced?\", \"context\": \"I\\'m not being traced\"})\\n\\n\\u200bLog to a specific project\\n\\u200bStatically\\nAs mentioned in the tracing conceptual guide LangSmith uses the concept of a Project to group traces. If left unspecified, the tracer project is set to default. You can set the LANGSMITH_PROJECT environment variable to configure a custom project name for an entire application run. This should be done before executing your application.\\nCopyexport LANGSMITH_PROJECT=my-project'), Document(metadata={'id': 'd2b1919d-fbf8-4fcd-832d-80af95f8d84a', 'changefreq': 'weekly', 'loc': 'https://docs.smith.langchain.com/observability/how_to_guides', 'priority': '0.5', 'source': 'https://docs.smith.langchain.com/observability/how_to_guides'}, page_content='\\u200b3. View your trace\\nBy default, the trace will be logged to the project with the name default. An example of a trace logged using the above code is made public and can be viewed here.\\n\\n\\u200bTrace selectively\\nThe previous section showed how to trace all invocations of a LangChain runnables within your applications by setting a single environment variable. While this is a convenient way to get started, you may want to trace only specific invocations or parts of your application.\\nThere are two ways to do this in Python: by manually passing in a LangChainTracer (reference docs) instance as a callback, or by using the tracing_context context manager (reference docs).\\nIn JS/TS, you can pass a LangChainTracer (reference docs) instance as a callback.\\nPythonTypeScriptCopy# You can opt-in to specific invocations..\\nimport langsmith as ls\\n\\nwith ls.tracing_context(enabled=True):\\n    chain.invoke({\"question\": \"Am I using a callback?\", \"context\": \"I\\'m using a callback\"})\\n\\n# This will NOT be traced (assuming LANGSMITH_TRACING is not set)\\nchain.invoke({\"question\": \"Am I being traced?\", \"context\": \"I\\'m not being traced\"})\\n\\n# This would not be traced, even if LANGSMITH_TRACING=true\\nwith ls.tracing_context(enabled=False):\\n    chain.invoke({\"question\": \"Am I being traced?\", \"context\": \"I\\'m not being traced\"})\\n\\n\\u200bLog to a specific project\\n\\u200bStatically\\nAs mentioned in the tracing conceptual guide LangSmith uses the concept of a Project to group traces. If left unspecified, the tracer project is set to default. You can set the LANGSMITH_PROJECT environment variable to configure a custom project name for an entire application run. This should be done before executing your application.\\nCopyexport LANGSMITH_PROJECT=my-project'), Document(metadata={'id': '2c3d103a-fe9d-4d91-b8f6-3f5e85aa02fc', 'changefreq': 'weekly', 'loc': 'https://docs.smith.langchain.com/observability/how_to_guides/trace_with_opentelemetry', 'priority': '0.5', 'source': 'https://docs.smith.langchain.com/observability/how_to_guides/trace_with_opentelemetry'}, page_content='Set up distributed tracing with LangChain\\u200b\\nTo enable distributed tracing across multiple services:'), Document(metadata={'id': 'd25bb9a3-8d18-4e90-aee5-3dcf2d7fab53', 'changefreq': 'weekly', 'loc': 'https://docs.smith.langchain.com/observability/how_to_guides/serverless_environments', 'priority': '0.5', 'source': 'https://docs.smith.langchain.com/observability/how_to_guides/serverless_environments'}, page_content='Note that this is named differently from the environment variable in LangChain.js because LangSmith can be used without LangChain.\\n\\n\\nPass a custom client into your traced runs and await the client.awaitPendingTraceBatches(); method.\\n\\nHere’s an example of using awaitPendingTraceBatches alongside the traceable method:\\nCopyimport { Client } from \"langsmith\";\\nimport { traceable } from \"langsmith/traceable\";\\nconst langsmithClient = new Client({});\\nconst tracedFn = traceable(\\n  async () => {\\n    return \"Some return value\";\\n  },\\n  {\\n    client: langsmithClient,\\n  }\\n);\\nconst res = await tracedFn();\\nawait langsmithClient.awaitPendingTraceBatches();\\n\\n\\u200bRate limits at high concurrency\\x0b\\nBy default, the LangSmith client will batch operations as your traced run executions, sending a new batch every few milliseconds.\\nThis works well in most situations, but if your traced function is long-running and you have very high concurrency, you may also hit rate limits related to overall request count.\\nIf you are seeing rate limit errors related to this, you can try setting manualFlushMode: true in your client like this:\\nCopyimport { Client } from \"langsmith\";\\nconst langsmithClient = new Client({  manualFlushMode: true,});\\nconst myTracedFunc = traceable(\\n  async () => {\\n    // Your logic here...\\n  },\\n  { client: langsmithClient }\\n);\\n\\nAnd then manually calling client.flush() like this before your serverless function closes:\\nCopytry {\\n  await myTracedFunc();\\n} finally {\\n  await langsmithClient.flush();\\n}\\n\\nNote that this will prevent runs from appearing in the LangSmith UI until you call .flush().Was this page helpful?YesNoThreadsLog multimodal tracesAssistantResponses are generated using AI and may contain mistakes.Docs by LangChain home pagegithubxlinkedinyoutubeResourcesChangelogLangChain AcademyTrust CenterCompanyAboutCareersBloggithubxlinkedinyoutubePowered by Mintlify')]}\n"
     ]
    }
   ],
   "source": [
    "# Creative, robust RAG graph invocation with advanced error handling and user feedback\n",
    "import traceback\n",
    "import socket\n",
    "import httpx\n",
    "\n",
    "def is_connected(host=\"8.8.8.8\", port=53, timeout=3):\n",
    "    \"\"\"Check internet connectivity by attempting to connect to a DNS server.\"\"\"\n",
    "    try:\n",
    "        socket.setdefaulttimeout(timeout)\n",
    "        socket.socket(socket.AF_INET, socket.SOCK_STREAM).connect((host, port))\n",
    "        return True\n",
    "    except Exception:\n",
    "        return False\n",
    "\n",
    "question = \"How do I set up tracing if I'm using LangChain?\"\n",
    "if not is_connected():\n",
    "    print(\"🚫 No internet connection. Please check your network and try again.\")\n",
    "else:\n",
    "    try:\n",
    "        print(\"🌐 Connected! Running the RAG graph...\")\n",
    "        result = simple_rag_graph.invoke({\"question\": question}, config={\"metadata\": {\"foo\": \"bar\"}})\n",
    "        print(\"✅ Success! Here is your result:\")\n",
    "        print(result)\n",
    "    except httpx.ConnectError as ce:\n",
    "        print(\"❌ Connection error: Unable to reach the Groq API. Please check your internet or proxy settings.\")\n",
    "        print(f\"Details: {ce}\")\n",
    "    except httpx.HTTPStatusError as he:\n",
    "        print(f\"❌ HTTP error: {he.response.status_code} - {he.response.text}\")\n",
    "    except Exception as e:\n",
    "        print(\"❌ An unexpected error occurred:\")\n",
    "        traceback.print_exc()"
   ]
  },
  {
   "cell_type": "code",
   "execution_count": 17,
   "metadata": {},
   "outputs": [],
   "source": [
    "from langsmith import traceable, trace\n",
    "from groq import Groq\n",
    "from typing import List\n",
    "import nest_asyncio\n",
    "from utils import get_vector_db_retriever\n",
    "\n",
    "MODEL_PROVIDER = \"groq\"\n",
    "MODEL_NAME = \"llama-3.1-8b-instant\"\n",
    "APP_VERSION = 1.0\n",
    "RAG_SYSTEM_PROMPT = \"\"\"You are an assistant for question-answering tasks. \n",
    "Use the following pieces of retrieved context to answer the latest question in the conversation. \n",
    "If you don't know the answer, just say that you don't know. \n",
    "Use three sentences maximum and keep the answer concise.\n",
    "\"\"\"\n",
    "\n",
    "groq_client = Groq()\n",
    "nest_asyncio.apply()\n",
    "retriever = get_vector_db_retriever()\n",
    "\n",
    "\"\"\"\n",
    "retrieve_documents\n",
    "- Returns documents fetched from a vectorstore based on the user's question\n",
    "\"\"\"\n",
    "@traceable\n",
    "def retrieve_documents(question: str):\n",
    "    documents = retriever.invoke(question)\n",
    "    return documents\n",
    "\n",
    "\"\"\"\n",
    "generate_response\n",
    "- Calls `call_groq` to generate a model response after formatting inputs\n",
    "\"\"\"\n",
    "# TODO: Remove traceable, and use with trace()\n",
    "@traceable\n",
    "def generate_response(question: str, documents):\n",
    "    # NOTE: Our documents came in as a list of objects, but we just want to log a string\n",
    "    formatted_docs = \"\\n\\n\".join(doc.page_content for doc in documents)\n",
    "\n",
    "    # TODO: Use with trace()\n",
    "    # with trace(\n",
    "    #     name=\"Generate Response\",\n",
    "    #     run_type=\"chain\", \n",
    "    #     inputs={\"question\": question, \"formatted_docs\": formatted_docs},\n",
    "    #     metadata={\"foo\": \"bar\"},\n",
    "    # ) as ls_trace:\n",
    "    messages = [\n",
    "        {\n",
    "            \"role\": \"system\",\n",
    "            \"content\": RAG_SYSTEM_PROMPT\n",
    "        },\n",
    "        {\n",
    "            \"role\": \"user\",\n",
    "            \"content\": f\"Context: {formatted_docs} \\n\\n Question: {question}\"\n",
    "        }\n",
    "    ]\n",
    "    response = call_groq(messages)\n",
    "    # TODO: End your trace and write outputs to LangSmith\n",
    "    # ls_trace.end(outputs={\"output\": response})\n",
    "    return response\n",
    "\n",
    "\"\"\"\n",
    "call_groq\n",
    "- Returns the chat completion output from Groq\n",
    "\"\"\"\n",
    "@traceable\n",
    "def call_groq(\n",
    "    messages: List[dict], model: str = MODEL_NAME, temperature: float = 0.0\n",
    ") -> str:\n",
    "    response = groq_client.chat.completions.create(\n",
    "        model=model,\n",
    "        messages=messages,\n",
    "        temperature=temperature,\n",
    "    )\n",
    "    return response\n",
    "\n",
    "\"\"\"\n",
    "langsmith_rag\n",
    "- Calls `retrieve_documents` to fetch documents\n",
    "- Calls `generate_response` to generate a response based on the fetched documents\n",
    "- Returns the model response\n",
    "\"\"\"\n",
    "@traceable\n",
    "def langsmith_rag(question: str):\n",
    "    documents = retrieve_documents(question)\n",
    "    response = generate_response(question, documents)\n",
    "    return response.choices[0].message.content\n"
   ]
  },
  {
   "cell_type": "code",
   "execution_count": 18,
   "metadata": {},
   "outputs": [
    {
     "name": "stdout",
     "output_type": "stream",
     "text": [
      "You can use the tracing_context context manager in Python to trace specific invocations. This is done by wrapping the code you want to trace with the context manager, like this: \n",
      "\n",
      "```python\n",
      "import langsmith as ls\n",
      "\n",
      "with ls.tracing_context(enabled=True):\n",
      "    chain.invoke({\"question\": \"Am I using a callback?\", \"context\": \"I'm using a callback\"})\n",
      "```\n",
      "\n",
      "This will trace the execution of the specified code.\n"
     ]
    }
   ],
   "source": [
    "# Run langsmith_rag and print the answer with error handling\n",
    "import traceback\n",
    "\n",
    "question = \"How do I trace with tracing context?\"\n",
    "try:\n",
    "    ai_answer = langsmith_rag(question)\n",
    "    print(ai_answer)\n",
    "except Exception as e:\n",
    "    print(f\"Error: {e}\")\n",
    "    traceback.print_exc()"
   ]
  },
  {
   "cell_type": "code",
   "execution_count": 19,
   "metadata": {},
   "outputs": [],
   "source": [
    "# TODO: Import wrap_groq (if available in your tracing library)\n",
    "# from langsmith.wrappers import wrap_groq\n",
    "from groq import Groq\n",
    "from typing import List\n",
    "import nest_asyncio\n",
    "from utils import get_vector_db_retriever\n",
    "\n",
    "MODEL_PROVIDER = \"groq\"\n",
    "MODEL_NAME = \"llama-3.1-8b-instant\"\n",
    "APP_VERSION = 1.0\n",
    "RAG_SYSTEM_PROMPT = \"\"\"You are an assistant for question-answering tasks. \n",
    "Use the following pieces of retrieved context to answer the latest question in the conversation. \n",
    "If you don't know the answer, just say that you don't know. \n",
    "Use three sentences maximum and keep the answer concise.\n",
    "\"\"\"\n",
    "\n",
    "# TODO: Wrap the Groq Client (if needed)\n",
    "groq_client = Groq()\n",
    "\n",
    "nest_asyncio.apply()\n",
    "retriever = get_vector_db_retriever()\n",
    "\n",
    "@traceable(run_type=\"chain\")\n",
    "def retrieve_documents(question: str):\n",
    "    return retriever.invoke(question)\n",
    "\n",
    "@traceable(run_type=\"chain\")\n",
    "def generate_response(question: str, documents):\n",
    "    formatted_docs = \"\\n\\n\".join(doc.page_content for doc in documents)\n",
    "    messages = [\n",
    "        {\n",
    "            \"role\": \"system\",\n",
    "            \"content\": RAG_SYSTEM_PROMPT\n",
    "        },\n",
    "        {\n",
    "            \"role\": \"user\",\n",
    "            \"content\": f\"Context: {formatted_docs} \\n\\n Question: {question}\"\n",
    "        }\n",
    "    ]\n",
    "    # TODO: We don't need to use @traceable on a nested function call anymore,\n",
    "    # wrap_groq takes care of this for us (if available)\n",
    "    return call_groq(messages)\n",
    "\n",
    "@traceable\n",
    "def call_groq(\n",
    "    messages: List[dict],\n",
    ") -> str:\n",
    "    return groq_client.chat.completions.create(\n",
    "        model=MODEL_NAME,\n",
    "        messages=messages,\n",
    "    )\n",
    "\n",
    "@traceable(run_type=\"chain\")\n",
    "def langsmith_rag_with_wrap_groq(question: str):\n",
    "    documents = retrieve_documents(question)\n",
    "    response = generate_response(question, documents)\n",
    "    return response.choices[0].message.content\n"
   ]
  },
  {
   "cell_type": "code",
   "execution_count": 20,
   "metadata": {},
   "outputs": [
    {
     "name": "stdout",
     "output_type": "stream",
     "text": [
      "I don't know. The provided context only mentions `wrap_openai` and `wrapOpenAI` for tracing with OpenTelemetry. There's no information on `wrap_groq`.\n"
     ]
    }
   ],
   "source": [
    "# Run langsmith_rag_with_wrap_groq and print the answer with error handling\n",
    "import traceback\n",
    "\n",
    "question = \"How do I trace with wrap_groq?\"\n",
    "try:\n",
    "    ai_answer = langsmith_rag_with_wrap_groq(question)\n",
    "    print(ai_answer)\n",
    "except Exception as e:\n",
    "    print(f\"Error: {e}\")\n",
    "    traceback.print_exc()"
   ]
  },
  {
   "cell_type": "code",
   "execution_count": 21,
   "metadata": {},
   "outputs": [
    {
     "name": "stdout",
     "output_type": "stream",
     "text": [
      "ChatCompletion(id='chatcmpl-507268ac-fd21-48d2-9da2-af11c0ff1086', choices=[Choice(finish_reason='stop', index=0, logprobs=None, message=ChatCompletionMessage(content=\"The color of the sky can appear different depending on the time of day, atmospheric conditions, and other factors. \\n\\n1. During daytime: The typical blue color of the sky is due to a phenomenon called Rayleigh scattering. When sunlight enters the Earth's atmosphere, it encounters tiny molecules of gases, such as nitrogen and oxygen. These molecules scatter the shorter wavelengths of light (like blue and violet) more than the longer wavelengths (like red and orange). As a result, the sky appears blue to our eyes.\\n\\n2. During sunrise and sunset: The sky can take on hues of red, orange, and pink due to a different atmospheric effect. When the sun is low on the horizon, its light has to travel through a thicker layer of the atmosphere to reach our eyes. This longer path causes the light to be scattered in a way that favors the longer wavelengths (like red and orange). This is known as Mie scattering, named after the German physicist Gustav Mie, who discovered the phenomenon in 1908.\\n\\n3. At night: When the sun is below the horizon, the sky can appear dark and sometimes have twinkling stars visible. However, a few colors can be seen in the night sky: the Moon can appear whitish or yellowish depending on the phase, and sometimes aurora borealis or aurora australis (Northern or Southern Lights) can appear green, blue, or sometimes red, due to charged particles interacting with the atmosphere.\\n\\nSo, the color of the sky depends on various factors and can change significantly throughout the day and due to environmental conditions.\", role='assistant', executed_tools=None, function_call=None, reasoning=None, tool_calls=None))], created=1759314168, model='llama-3.1-8b-instant', object='chat.completion', system_fingerprint='fp_3ddc9808b3', usage=CompletionUsage(completion_tokens=321, prompt_tokens=41, total_tokens=362, completion_time=0.546221467, prompt_time=0.002623677, queue_time=0.044852583, total_time=0.548845144), usage_breakdown=None, x_groq={'id': 'req_01k6fmqj56e00vm8f12rjk4pgp'}, service_tier='on_demand')\n"
     ]
    }
   ],
   "source": [
    "# Minimal, robust Groq API call with error handling\n",
    "import traceback\n",
    "\n",
    "messages = [\n",
    "    {\n",
    "        \"role\": \"user\",\n",
    "        \"content\": \"What color is the sky?\"\n",
    "    }\n",
    "]\n",
    "\n",
    "try:\n",
    "    response = groq_client.chat.completions.create(\n",
    "        model=MODEL_NAME,\n",
    "        messages=messages\n",
    "    )\n",
    "    print(response)\n",
    "except Exception as e:\n",
    "    print(f\"Error: {e}\")\n",
    "    traceback.print_exc()"
   ]
  },
  {
   "cell_type": "code",
   "execution_count": 22,
   "metadata": {},
   "outputs": [],
   "source": [
    "# No need to set API keys here. They are loaded from .env automatically by dotenv in the first code cell.\n",
    "# If you need to override, edit your .env file or set os.environ before importing clients."
   ]
  },
  {
   "cell_type": "code",
   "execution_count": 23,
   "metadata": {},
   "outputs": [
    {
     "data": {
      "text/plain": [
       "False"
      ]
     },
     "execution_count": 23,
     "metadata": {},
     "output_type": "execute_result"
    }
   ],
   "source": [
    "from dotenv import load_dotenv\n",
    "load_dotenv(dotenv_path=\"../../.env\", override=True)"
   ]
  },
  {
   "cell_type": "code",
   "execution_count": 24,
   "metadata": {},
   "outputs": [
    {
     "data": {
      "text/plain": [
       "True"
      ]
     },
     "execution_count": 24,
     "metadata": {},
     "output_type": "execute_result"
    }
   ],
   "source": [
    "import os\n",
    "os.environ[\"LANGSMITH_TRACING\"] = \"false\"\n",
    "\n",
    "from langsmith import utils\n",
    "utils.tracing_is_enabled() # This should return false"
   ]
  },
  {
   "cell_type": "code",
   "execution_count": 25,
   "metadata": {},
   "outputs": [],
   "source": [
    "# RunTree-based RAG pipeline with error handling\n",
    "import traceback\n",
    "\n",
    "from langsmith import RunTree\n",
    "from groq import Groq\n",
    "from typing import List\n",
    "import nest_asyncio\n",
    "from utils import get_vector_db_retriever\n",
    "\n",
    "groq_client = Groq()\n",
    "nest_asyncio.apply()\n",
    "retriever = get_vector_db_retriever()\n",
    "\n",
    "def retrieve_documents(parent_run: RunTree, question: str):\n",
    "    try:\n",
    "        child_run = parent_run.create_child(\n",
    "            name=\"Retrieve Documents\",\n",
    "            run_type=\"retriever\",\n",
    "            inputs={\"question\": question},\n",
    "        )\n",
    "        documents = retriever.invoke(question)\n",
    "        child_run.end(outputs={\"documents\": documents})\n",
    "        child_run.post()\n",
    "        return documents\n",
    "    except Exception as e:\n",
    "        print(f\"Error in retrieve_documents: {e}\")\n",
    "        traceback.print_exc()\n",
    "        return []\n",
    "\n",
    "def generate_response(parent_run: RunTree, question: str, documents):\n",
    "    try:\n",
    "        formatted_docs = \"\\n\\n\".join(doc.page_content for doc in documents)\n",
    "        rag_system_prompt = \"\"\"You are an assistant for question-answering tasks. \n",
    "        Use the following pieces of retrieved context to answer the latest question in the conversation. \n",
    "        If you don't know the answer, just say that you don't know. \n",
    "        Use three sentences maximum and keep the answer concise.\n",
    "        \"\"\"\n",
    "        child_run = parent_run.create_child(\n",
    "            name=\"Generate Response\",\n",
    "            run_type=\"chain\",\n",
    "            inputs={\"question\": question, \"documents\": documents},\n",
    "        )\n",
    "        messages = [\n",
    "            {\n",
    "                \"role\": \"system\",\n",
    "                \"content\": rag_system_prompt\n",
    "            },\n",
    "            {\n",
    "                \"role\": \"user\",\n",
    "                \"content\": f\"Context: {formatted_docs} \\n\\n Question: {question}\"\n",
    "            }\n",
    "        ]\n",
    "        groq_response = call_groq(child_run, messages)\n",
    "        child_run.end(outputs={\"groq_response\": groq_response})\n",
    "        child_run.post()\n",
    "        return groq_response\n",
    "    except Exception as e:\n",
    "        print(f\"Error in generate_response: {e}\")\n",
    "        traceback.print_exc()\n",
    "        return None\n",
    "\n",
    "def call_groq(parent_run: RunTree, messages: List[dict], model: str = \"llama-3.1-8b-instant\", temperature: float = 0.0):\n",
    "    try:\n",
    "        child_run = parent_run.create_child(\n",
    "            name=\"Groq Call\",\n",
    "            run_type=\"llm\",\n",
    "            inputs={\"messages\": messages},\n",
    "        )\n",
    "        groq_response = groq_client.chat.completions.create(\n",
    "            model=model,\n",
    "            messages=messages,\n",
    "            temperature=temperature,\n",
    "        )\n",
    "        child_run.end(outputs={\"groq_response\": groq_response})\n",
    "        child_run.post()\n",
    "        return groq_response\n",
    "    except Exception as e:\n",
    "        print(f\"Error in call_groq: {e}\")\n",
    "        traceback.print_exc()\n",
    "        return None\n",
    "\n",
    "def langsmith_rag(question: str):\n",
    "    try:\n",
    "        root_run_tree = RunTree(\n",
    "            name=\"Chat Pipeline\",\n",
    "            run_type=\"chain\",\n",
    "            inputs={\"question\": question}\n",
    "        )\n",
    "        documents = retrieve_documents(root_run_tree, question)\n",
    "        response = generate_response(root_run_tree, question, documents)\n",
    "        output = response.choices[0].message.content if response else None\n",
    "        root_run_tree.end(outputs={\"generation\": output})\n",
    "        root_run_tree.post()\n",
    "        return output\n",
    "    except Exception as e:\n",
    "        print(f\"Error in langsmith_rag: {e}\")\n",
    "        traceback.print_exc()\n",
    "        return None"
   ]
  },
  {
   "cell_type": "code",
   "execution_count": 26,
   "metadata": {},
   "outputs": [
    {
     "name": "stdout",
     "output_type": "stream",
     "text": [
      "You can convert LangChain's RunnableConfig to a RunTree object by using RunTree.fromRunnableConfig or pass the RunnableConfig as the first argument of the traceable-wrapped function.\n"
     ]
    }
   ],
   "source": [
    "question = \"How can I trace with RunTree?\"\n",
    "ai_answer = langsmith_rag(question)\n",
    "print(ai_answer)"
   ]
  }
 ],
 "metadata": {
  "kernelspec": {
   "display_name": "venv",
   "language": "python",
   "name": "python3"
  },
  "language_info": {
   "codemirror_mode": {
    "name": "ipython",
    "version": 3
   },
   "file_extension": ".py",
   "mimetype": "text/x-python",
   "name": "python",
   "nbconvert_exporter": "python",
   "pygments_lexer": "ipython3",
   "version": "3.12.10"
  }
 },
 "nbformat": 4,
 "nbformat_minor": 4
}
