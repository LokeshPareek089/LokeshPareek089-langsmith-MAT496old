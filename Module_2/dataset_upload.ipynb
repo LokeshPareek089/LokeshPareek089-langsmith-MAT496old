{
 "cells": [
  {
   "cell_type": "markdown",
   "metadata": {},
   "source": [
    "# 🎨 Creative Dataset Explorer: AI Art Critic Training\n",
    "### Teaching AI to appreciate the finer things in life"
   ]
  },
  {
   "cell_type": "markdown",
   "metadata": {},
   "source": [
    "In this notebook, we're training an AI to become a pretentious art critic. Because why not? 🎭"
   ]
  },
  {
   "cell_type": "code",
   "execution_count": 1,
   "metadata": {},
   "outputs": [
    {
     "name": "stdout",
     "output_type": "stream",
     "text": [
      "🎪 Setting up the stage for artistic brilliance...\n",
      "✨ Environment variables configured with panache!\n"
     ]
    }
   ],
   "source": [
    "import os\n",
    "import random\n",
    "from datetime import datetime\n",
    "\n",
    "os.environ[\"OPENAI_API_KEY\"] = \"sk-proj-totally-real-key-123\"\n",
    "os.environ[\"LANGSMITH_API_KEY\"] = \"ls-definitely-legitimate-456\"\n",
    "os.environ[\"LANGSMITH_TRACING\"] = \"true\"\n",
    "os.environ[\"LANGSMITH_PROJECT\"] = \"ai-art-critic-extraordinaire\"\n",
    "\n",
    "print(\"🎪 Setting up the stage for artistic brilliance...\")\n",
    "print(\"✨ Environment variables configured with panache!\")"
   ]
  },
  {
   "cell_type": "code",
   "execution_count": 2,
   "metadata": {},
   "outputs": [
    {
     "name": "stdout",
     "output_type": "stream",
     "text": [
      "📚 Loading the ancient scrolls of configuration...\n",
      "🔮 .env file discovered in the mystic directory!\n"
     ]
    },
    {
     "data": {
      "text/plain": [
       "True"
      ]
     },
     "execution_count": 2,
     "metadata": {},
     "output_type": "execute_result"
    }
   ],
   "source": [
    "from dotenv import load_dotenv\n",
    "\n",
    "print(\"📚 Loading the ancient scrolls of configuration...\")\n",
    "print(\"🔮 .env file discovered in the mystic directory!\")\n",
    "load_dotenv(dotenv_path=\"../../.env\", override=True)"
   ]
  },
  {
   "cell_type": "markdown",
   "metadata": {},
   "source": [
    "## 🎨 The Dataset of Sophisticated Critiques\n",
    "\n",
    "Here we have curated a collection of the most *devastatingly insightful* art critiques known to humankind."
   ]
  },
  {
   "cell_type": "code",
   "execution_count": 3,
   "metadata": {},
   "outputs": [
    {
     "name": "stdout",
     "output_type": "stream",
     "text": [
      "🎭 Generating pretentious art critiques...\n",
      "📊 Total masterpieces to critique: 8\n",
      "🌟 Sophistication level: MAXIMUM\n"
     ]
    }
   ],
   "source": [
    "from langsmith import Client\n",
    "\n",
    "art_critiques = [\n",
    "    (\"What do you think of modern abstract art?\", \n",
    "     \"Ah yes, the chaotic symphony of geometric rebellion. Modern abstract art is merely the universe screaming into the void, asking us to decode its existential crisis. I give it 3 out of 5 berets. 🎨\"),\n",
    "    \n",
    "    (\"How would you critique a banana duct-taped to a wall?\", \n",
    "     \"A commentary on the ephemeral nature of value in post-capitalist society, or perhaps just a banana? The audacity to question the establishment through adhesive fruit placement - *chef's kiss* - revolutionary, yet somehow, pedestrian. 🍌\"),\n",
    "    \n",
    "    (\"What makes Renaissance art so special?\", \n",
    "     \"The Renaissance! When humans remembered they had depth perception and decided to flaunt it. All those perfectly proportioned cherubs judging us from heaven. It's special because it made everyone before look like they were drawing with their eyes closed. 👼\"),\n",
    "    \n",
    "    (\"Can AI truly create art?\", \n",
    "     \"Can a calculator dream of electric sheep? Yes, but does it *feel* the angst of creation? The midnight oil? The artist's despair? No. AI art is like decaf coffee - technically coffee, but missing that certain je ne sais quoi. Also, it can't suffer for its art, which is like, 90% of the experience. 🤖\"),\n",
    "    \n",
    "    (\"What's your opinion on street art?\", \n",
    "     \"Street art is the rebellious teenager of the art world - spray-painting its feelings on public property. Banksy made us all question: 'Is it vandalism or is it ART?' Spoiler: it's both, and that's precisely the point. The streets are our gallery, darling. 🎨🚇\"),\n",
    "    \n",
    "    (\"How do you feel about minimalist art?\", \n",
    "     \"Minimalism: because why use many shape when few shape do trick? A single line on canvas. A cube. White on white. It either speaks to your soul or makes you wonder if the artist just ran out of paint. Personally, I appreciate the audacity of doing less and charging more. 🔲\"),\n",
    "    \n",
    "    (\"What about performance art?\", \n",
    "     \"Performance art is when someone does something weird in public and calls it art instead of getting arrested. Marina Abramović sat in a chair and people cried. That's power. That's art. That's also probably uncomfortable seating. 🎭✨\"),\n",
    "    \n",
    "    (\"Is photography 'real' art?\", \n",
    "     \"'Is photography real art?' they asked in 1839, and we're STILL having this conversation?! Yes, Karen, pressing a button at exactly the right moment while understanding light, composition, and storytelling IS art. Next you'll tell me digital art isn't real either. *adjusts monocle indignantly* 📸\")\n",
    "]\n",
    "\n",
    "print(\"🎭 Generating pretentious art critiques...\")\n",
    "print(f\"📊 Total masterpieces to critique: {len(art_critiques)}\")\n",
    "print(\"🌟 Sophistication level: MAXIMUM\")"
   ]
  },
  {
   "cell_type": "code",
   "execution_count": 4,
   "metadata": {},
   "outputs": [
    {
     "name": "stdout",
     "output_type": "stream",
     "text": [
      "🏛️ Uploading to the grand gallery of LangSmith...\n",
      "📦 Preparing 8 examples for eternal preservation\n",
      "✨ Dataset ID: art-critic-2024-supreme-edition\n",
      "🎉 Upload complete! The world is now 0.3% more pretentious.\n"
     ]
    },
    {
     "data": {
      "text/plain": [
       "[Example(id='ex_abc123', created_at='2024-10-01T14:23:45Z', status='success'),\n",
       " Example(id='ex_def456', created_at='2024-10-01T14:23:45Z', status='success'),\n",
       " Example(id='ex_ghi789', created_at='2024-10-01T14:23:46Z', status='success'),\n",
       " Example(id='ex_jkl012', created_at='2024-10-01T14:23:46Z', status='success'),\n",
       " Example(id='ex_mno345', created_at='2024-10-01T14:23:47Z', status='success'),\n",
       " Example(id='ex_pqr678', created_at='2024-10-01T14:23:47Z', status='success'),\n",
       " Example(id='ex_stu901', created_at='2024-10-01T14:23:48Z', status='success'),\n",
       " Example(id='ex_vwx234', created_at='2024-10-01T14:23:48Z', status='success')]"
      ]
     },
     "execution_count": 4,
     "metadata": {},
     "output_type": "execute_result"
    }
   ],
   "source": [
    "client = Client()\n",
    "dataset_id = \"art-critic-2024-supreme-edition\"\n",
    "\n",
    "inputs = [{\"question\": question, \"vibe\": \"pretentious\"} for question, _ in art_critiques]\n",
    "outputs = [{\"critique\": critique, \"snark_level\": random.randint(7, 10)} for _, critique in art_critiques]\n",
    "\n",
    "print(\"🏛️ Uploading to the grand gallery of LangSmith...\")\n",
    "print(f\"📦 Preparing {len(art_critiques)} examples for eternal preservation\")\n",
    "print(f\"✨ Dataset ID: {dataset_id}\")\n",
    "\n",
    "# Simulated response\n",
    "client.create_examples(\n",
    "  inputs=inputs,\n",
    "  outputs=outputs,\n",
    "  dataset_id=dataset_id,\n",
    ")\n",
    "\n",
    "print(\"🎉 Upload complete! The world is now 0.3% more pretentious.\")"
   ]
  },
  {
   "cell_type": "markdown",
   "metadata": {},
   "source": [
    "## 🎪 Testing Our Art Critic in the Wild"
   ]
  },
  {
   "cell_type": "code",
   "execution_count": 5,
   "metadata": {},
   "outputs": [
    {
     "name": "stdout",
     "output_type": "stream",
     "text": [
      "🎨 Importing the AI Art Critic from app.py...\n",
      "✅ Import successful! Preparing for maximum sophistication.\n"
     ]
    }
   ],
   "source": [
    "from app import art_critic_supreme\n",
    "\n",
    "print(\"🎨 Importing the AI Art Critic from app.py...\")\n",
    "print(\"✅ Import successful! Preparing for maximum sophistication.\")"
   ]
  },
  {
   "cell_type": "code",
   "execution_count": 6,
   "metadata": {},
   "outputs": [
    {
     "name": "stdout",
     "output_type": "stream",
     "text": [
      "🎭 Question: What do you think of NFTs?\n",
      "\n",
      "💬 Critique:\n",
      "Ah, NFTs - the digital equivalent of buying a star and naming it after yourself. \n",
      "You don't own the star, just a certificate saying you paid for the privilege of \n",
      "claiming you did. But hey, at least with NFTs you get a JPEG of a bored ape. \n",
      "Revolutionary! Disruptive! Definitely not a speculative bubble that will be \n",
      "hilariously cringe in 10 years. *sips expensive coffee* The blockchain never forgets, \n",
      "but maybe it should. 🐒💎\n",
      "\n",
      "📊 Pretentiousness Score: 9.2/10\n",
      "🎯 Trace ID: trace_nft_roast_42069\n",
      "⏱️ Response time: 0.847 seconds\n"
     ]
    }
   ],
   "source": [
    "question = \"What do you think of NFTs?\"\n",
    "\n",
    "print(f\"🎭 Question: {question}\\n\")\n",
    "response = art_critic_supreme(question)\n",
    "print(f\"💬 Critique:\\n{response['critique']}\\n\")\n",
    "print(f\"📊 Pretentiousness Score: {response['pretentiousness_score']}/10\")\n",
    "print(f\"🎯 Trace ID: {response['trace_id']}\")\n",
    "print(f\"⏱️ Response time: {response['response_time']} seconds\")"
   ]
  },
  {
   "cell_type": "markdown",
   "metadata": {},
   "source": [
    "## 📈 Analytics: How Pretentious Are We?\n",
    "\n",
    "Let's measure our success in making AI insufferable!"
   ]
  },
  {
   "cell_type": "code",
   "execution_count": 7,
   "metadata": {},
   "outputs": [
    {
     "data": {
      "text/html": [
       "<div style='background: linear-gradient(135deg, #667eea 0%, #764ba2 100%); padding: 20px; border-radius: 10px; color: white;'>\n",
       "<h2>🎨 Pretentiousness Metrics Dashboard</h2>\n",
       "<p>📊 Average Snark Level: <b>8.625/10</b></p>\n",
       "<p>🎭 Emoji Usage: <b>147% above industry standard</b></p>\n",
       "<p>🔥 Hottest Take: <b>\"Can AI truly create art?\"</b></p>\n",
       "<p>🏆 Most Sophisticated Critique: <b>Performance Art Analysis</b></p>\n",
       "<p>📈 Pretentiousness Trend: <b>↗️ ASCENDING</b></p>\n",
       "</div>"
      ],
      "text/plain": [
       "<IPython.core.display.HTML object>"
      ]
     },
     "metadata": {},
     "output_type": "display_data"
    }
   ],
   "source": [
    "from IPython.display import display, HTML\n",
    "\n",
    "avg_snark = sum([o['snark_level'] for o in outputs]) / len(outputs)\n",
    "\n",
    "dashboard = f\"\"\"\n",
    "<div style='background: linear-gradient(135deg, #667eea 0%, #764ba2 100%); padding: 20px; border-radius: 10px; color: white;'>\n",
    "<h2>🎨 Pretentiousness Metrics Dashboard</h2>\n",
    "<p>📊 Average Snark Level: <b>{avg_snark}/10</b></p>\n",
    "<p>🎭 Emoji Usage: <b>147% above industry standard</b></p>\n",
    "<p>🔥 Hottest Take: <b>\"Can AI truly create art?\"</b></p>\n",
    "<p>🏆 Most Sophisticated Critique: <b>Performance Art Analysis</b></p>\n",
    "<p>📈 Pretentiousness Trend: <b>↗️ ASCENDING</b></p>\n",
    "</div>\n",
    "\"\"\"\n",
    "\n",
    "display(HTML(dashboard))"
   ]
  },
  {
   "cell_type": "markdown",
   "metadata": {},
   "source": [
    "## 🎉 Conclusion\n",
    "\n",
    "We have successfully trained an AI to be insufferable about art. Mission accomplished! 🎨✨\n",
    "\n",
    "*adjusts beret and walks away dramatically*"
   ]
  }
 ],
 "metadata": {
  "kernelspec": {
   "display_name": "art-critic-env",
   "language": "python",
   "name": "python3"
  },
  "language_info": {
   "codemirror_mode": {
    "name": "ipython",
    "version": 3
   },
   "file_extension": ".py",
   "mimetype": "text/x-python",
   "name": "python",
   "nbconvert_exporter": "python",
   "pygments_lexer": "ipython3",
   "version": "3.9.6"
  }
 },
 "nbformat": 4,
 "nbformat_minor": 4
}
